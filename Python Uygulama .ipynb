{
 "cells": [
  {
   "cell_type": "markdown",
   "id": "ddca4fd8-19f7-4efc-a6b5-4553e7135d16",
   "metadata": {},
   "source": [
    "Minimum Öklid Mesafesinin Hesaplanması"
   ]
  },
  {
   "cell_type": "code",
   "execution_count": 6,
   "id": "e52e3a90-ad76-4684-8ace-9549f482ed74",
   "metadata": {},
   "outputs": [],
   "source": [
    "import math\n",
    "\n",
    "# Nokta tanımlama fonksiyonu \n",
    "\n",
    "#Noktaların Tanımlanması: create_points fonksiyonu kullanıcıdan noktaları alır ve her bir noktayı bir (x, y) demeti olarak bir listeye ekler.\n",
    "\n",
    "def create_points():\n",
    "    \"\"\"\n",
    "    Bu fonksiyon, 2D uzaydaki noktaları temsil eden bir liste oluşturur.\n",
    "    Her nokta (x, y) demeti olarak temsil edilir.\n",
    "    \"\"\"\n",
    "    points = []\n",
    "    num_points = int(input(\"Kaç tane nokta eklemek istersiniz? \"))\n",
    "    \n",
    "    for i in range(num_points):\n",
    "        x = float(input(f\"{i+1}. noktanın x koordinatını girin: \"))\n",
    "        y = float(input(f\"{i+1}. noktanın y koordinatını girin: \"))\n",
    "        points.append((x, y))\n",
    "    \n",
    "    return points"
   ]
  },
  {
   "cell_type": "code",
   "execution_count": 7,
   "id": "fc01952a-fb46-41ee-8b8f-66225ece40f8",
   "metadata": {},
   "outputs": [],
   "source": [
    "# Öklid mesafesi hesaplama fonksiyonu\n",
    "\n",
    "#Öklid Mesafesi Hesaplama: euclidean_distance fonksiyonu, iki nokta arasındaki Öklid mesafesini hesaplar.\n",
    "\n",
    "def euclidean_distance(point1, point2):\n",
    "    \"\"\"\n",
    "    Bu fonksiyon, 2D uzayda iki nokta arasındaki Öklid mesafesini hesaplar.\n",
    "    \"\"\"\n",
    "    return math.sqrt((point2[0] - point1[0])**2 + (point2[1] - point1[1])**2)"
   ]
  },
  {
   "cell_type": "code",
   "execution_count": 8,
   "id": "b81e9695-0c45-48d2-a3f0-607a7271f1ca",
   "metadata": {},
   "outputs": [
    {
     "name": "stdin",
     "output_type": "stream",
     "text": [
      "Kaç tane nokta eklemek istersiniz?  3\n",
      "1. noktanın x koordinatını girin:  45\n",
      "1. noktanın y koordinatını girin:  45\n",
      "2. noktanın x koordinatını girin:  60\n",
      "2. noktanın y koordinatını girin:  30\n",
      "3. noktanın x koordinatını girin:  90\n",
      "3. noktanın y koordinatını girin:  30\n"
     ]
    }
   ],
   "source": [
    "# Mesafeleri hesaplayıp minimumu bulan fonksiyon\n",
    "\n",
    "#Minimum Mesafenin Bulunması: Mesafeler listesinden minimum mesafe bulunur ve ekrana yazdırılır.\n",
    "\n",
    "# Mesafelerin Hesaplanması: calculate_distances fonksiyonu, points listesindeki her iki nokta arasındaki mesafeyi hesaplar ve bu mesafeleri bir distances listesine ekler.\n",
    "def calculate_distances(points):\n",
    "    \"\"\"\n",
    "    Bu fonksiyon, noktalar arasındaki Öklid mesafelerini hesaplar ve minimum mesafeyi döndürür.\n",
    "    \"\"\"\n",
    "    distances = []\n",
    "    \n",
    "    # Her iki nokta arasındaki mesafeyi hesaplıyoruz\n",
    "    for i in range(len(points)):\n",
    "        for j in range(i + 1, len(points)):\n",
    "            distance = euclidean_distance(points[i], points[j])\n",
    "            distances.append(distance)\n",
    "    \n",
    "    # Mesafeleri döndürme\n",
    "    return distances, min(distances) if distances else None\n",
    "\n",
    "# Ana program\n",
    "points = create_points()"
   ]
  },
  {
   "cell_type": "code",
   "execution_count": 9,
   "id": "4cb2b530-438e-4042-a19e-a26c1ad07ed9",
   "metadata": {},
   "outputs": [
    {
     "name": "stdout",
     "output_type": "stream",
     "text": [
      "Tüm noktalar arasındaki mesafeler: [21.213203435596427, 47.43416490252569, 30.0]\n",
      "Minimum Öklid mesafesi: 21.213203435596427\n"
     ]
    }
   ],
   "source": [
    "# Eğer en az iki nokta varsa mesafeleri hesaplayalım\n",
    "if len(points) >= 2:\n",
    "    distances, min_distance = calculate_distances(points)\n",
    "    \n",
    "    # Mesafeleri ve minimum mesafeyi ekrana yazdırma\n",
    "    print(\"Tüm noktalar arasındaki mesafeler:\", distances)\n",
    "    print(\"Minimum Öklid mesafesi:\", min_distance)\n",
    "else:\n",
    "    print(\"Mesafeyi hesaplamak için en az 2 nokta eklemelisiniz.\")"
   ]
  }
 ],
 "metadata": {
  "kernelspec": {
   "display_name": "Python 3 (ipykernel)",
   "language": "python",
   "name": "python3"
  },
  "language_info": {
   "codemirror_mode": {
    "name": "ipython",
    "version": 3
   },
   "file_extension": ".py",
   "mimetype": "text/x-python",
   "name": "python",
   "nbconvert_exporter": "python",
   "pygments_lexer": "ipython3",
   "version": "3.12.4"
  }
 },
 "nbformat": 4,
 "nbformat_minor": 5
}
